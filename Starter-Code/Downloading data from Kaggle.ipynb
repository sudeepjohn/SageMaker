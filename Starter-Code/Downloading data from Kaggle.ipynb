{
 "cells": [
  {
   "cell_type": "markdown",
   "metadata": {},
   "source": [
    "# 1. Install the Kaggle API on your SageMaker notebook"
   ]
  },
  {
   "cell_type": "code",
   "execution_count": 3,
   "metadata": {},
   "outputs": [],
   "source": [
    "!pip install kaggle"
   ]
  },
  {
   "cell_type": "markdown",
   "metadata": {},
   "source": [
    "# 2. Create a Kaggle API Key\n",
    "1. Create a Kaggle account here: https://www.kaggle.com/\n",
    "2. Create a Kaggle API key\n",
    "3. Upload the Kaggle API key onto your notebook instance."
   ]
  },
  {
   "cell_type": "markdown",
   "metadata": {},
   "source": [
    "Make sure your kaggle.json file is located on the home directory of your notebook instance."
   ]
  },
  {
   "cell_type": "code",
   "execution_count": 16,
   "metadata": {},
   "outputs": [],
   "source": [
    "!mv ../../kaggle.json /home/ec2-user/.kaggle/kaggle.json"
   ]
  },
  {
   "cell_type": "code",
   "execution_count": 17,
   "metadata": {},
   "outputs": [],
   "source": [
    "!chmod 600 /home/ec2-user/.kaggle/kaggle.json"
   ]
  },
  {
   "cell_type": "markdown",
   "metadata": {},
   "source": [
    "This next command downloads the data to your notebook instance. Make sure you're doing this in the Cloud, rather than from your laptop. That will save your local network bandwidth from having to download the file, and will free up space on your laptop! \n",
    "\n",
    "The last line in the API kaggle file is going to be specific to your Kaggle competition. Make sure to modify it based on the data you actually want to download."
   ]
  },
  {
   "cell_type": "code",
   "execution_count": 26,
   "metadata": {},
   "outputs": [
    {
     "name": "stdout",
     "output_type": "stream",
     "text": [
      "train.csv: Skipping, found more recently modified local copy (use --force to force download)\n",
      "Downloading gefs_train.tar.gz to /home/ec2-user/SageMaker/amazon-sagemaker-architecting-for-ml/Starter-Code\n",
      " 99%|█████████████████████████████████████▋| 1.06G/1.07G [00:17<00:00, 74.0MB/s]\n",
      "100%|██████████████████████████████████████| 1.07G/1.07G [00:17<00:00, 66.1MB/s]\n",
      "Downloading gefs_test.tar.gz to /home/ec2-user/SageMaker/amazon-sagemaker-architecting-for-ml/Starter-Code\n",
      "100%|███████████████████████████████████████▊| 357M/358M [00:06<00:00, 62.4MB/s]\n",
      "100%|████████████████████████████████████████| 358M/358M [00:06<00:00, 61.0MB/s]\n",
      "Downloading gefs_train.zip to /home/ec2-user/SageMaker/amazon-sagemaker-architecting-for-ml/Starter-Code\n",
      "100%|█████████████████████████████████████▉| 1.07G/1.07G [00:16<00:00, 78.4MB/s]\n",
      "100%|██████████████████████████████████████| 1.07G/1.07G [00:16<00:00, 71.0MB/s]\n",
      "Downloading gefs_test.zip to /home/ec2-user/SageMaker/amazon-sagemaker-architecting-for-ml/Starter-Code\n",
      " 99%|███████████████████████████████████████▋| 355M/358M [00:06<00:00, 39.1MB/s]\n",
      "100%|████████████████████████████████████████| 358M/358M [00:06<00:00, 57.8MB/s]\n",
      "station_info.csv: Skipping, found more recently modified local copy (use --force to force download)\n",
      "sampleSubmission.csv: Skipping, found more recently modified local copy (use --force to force download)\n",
      "Downloading gefs_elevations.nc to /home/ec2-user/SageMaker/amazon-sagemaker-architecting-for-ml/Starter-Code\n",
      "  0%|                                               | 0.00/8.87k [00:00<?, ?B/s]\n",
      "100%|██████████████████████████████████████| 8.87k/8.87k [00:00<00:00, 10.1MB/s]\n"
     ]
    }
   ],
   "source": [
    "!kaggle competitions download -c ams-2014-solar-energy-prediction-contest"
   ]
  },
  {
   "cell_type": "code",
   "execution_count": null,
   "metadata": {},
   "outputs": [],
   "source": []
  }
 ],
 "metadata": {
  "kernelspec": {
   "display_name": "conda_python3",
   "language": "python",
   "name": "conda_python3"
  },
  "language_info": {
   "codemirror_mode": {
    "name": "ipython",
    "version": 3
   },
   "file_extension": ".py",
   "mimetype": "text/x-python",
   "name": "python",
   "nbconvert_exporter": "python",
   "pygments_lexer": "ipython3",
   "version": "3.6.5"
  }
 },
 "nbformat": 4,
 "nbformat_minor": 2
}
